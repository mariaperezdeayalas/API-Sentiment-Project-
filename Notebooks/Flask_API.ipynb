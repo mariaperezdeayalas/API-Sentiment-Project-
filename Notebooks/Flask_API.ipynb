{
 "cells": [
  {
   "cell_type": "code",
   "execution_count": 2,
   "id": "98f9fc0d",
   "metadata": {},
   "outputs": [],
   "source": [
    "import requests\n",
    "import random"
   ]
  },
  {
   "cell_type": "code",
   "execution_count": 3,
   "id": "fa2750fc",
   "metadata": {},
   "outputs": [],
   "source": [
    "url = \"http://127.0.0.1:5000/\""
   ]
  },
  {
   "cell_type": "code",
   "execution_count": 4,
   "id": "1590a637",
   "metadata": {
    "scrolled": true
   },
   "outputs": [
    {
     "data": {
      "text/plain": [
       "<Response [200]>"
      ]
     },
     "execution_count": 4,
     "metadata": {},
     "output_type": "execute_result"
    }
   ],
   "source": [
    "requests.get(url)"
   ]
  },
  {
   "cell_type": "code",
   "execution_count": 6,
   "id": "a970a0b3",
   "metadata": {},
   "outputs": [
    {
     "data": {
      "text/plain": [
       "[{'name': 'Rachel'},\n",
       " {'name': 'Ross'},\n",
       " {'name': 'Monica'},\n",
       " {'name': 'Chandler'},\n",
       " {'name': 'Phoebe'},\n",
       " {'name': 'Joey'}]"
      ]
     },
     "execution_count": 6,
     "metadata": {},
     "output_type": "execute_result"
    }
   ],
   "source": [
    "friends = requests.get(\"http://127.0.0.1:5000/characters\")\n",
    "friends.json()"
   ]
  },
  {
   "cell_type": "code",
   "execution_count": 12,
   "id": "53018ff8",
   "metadata": {},
   "outputs": [],
   "source": [
    "lines = requests.get(\"http://127.0.0.1:5000/lines\")"
   ]
  },
  {
   "cell_type": "code",
   "execution_count": 13,
   "id": "c9d8694a",
   "metadata": {},
   "outputs": [
    {
     "data": {
      "text/plain": [
       "<Response [200]>"
      ]
     },
     "execution_count": 13,
     "metadata": {},
     "output_type": "execute_result"
    }
   ],
   "source": [
    "lines"
   ]
  },
  {
   "cell_type": "code",
   "execution_count": 15,
   "id": "4a7b07cf",
   "metadata": {},
   "outputs": [
    {
     "data": {
      "text/plain": [
       "<Response [200]>"
      ]
     },
     "execution_count": 15,
     "metadata": {},
     "output_type": "execute_result"
    }
   ],
   "source": [
    "episodes = requests.get(\"http://127.0.0.1:5000/episodes\")\n",
    "episodes"
   ]
  },
  {
   "cell_type": "code",
   "execution_count": null,
   "id": "afc08a5f",
   "metadata": {},
   "outputs": [],
   "source": [
    "episodes_author = requests.get(\"http://127.0.0.1:5000/episodes\")\n",
    "episodes"
   ]
  },
  {
   "cell_type": "code",
   "execution_count": null,
   "id": "fad23d67",
   "metadata": {},
   "outputs": [],
   "source": []
  }
 ],
 "metadata": {
  "kernelspec": {
   "display_name": "ironhack",
   "language": "python",
   "name": "ironhack"
  },
  "language_info": {
   "codemirror_mode": {
    "name": "ipython",
    "version": 3
   },
   "file_extension": ".py",
   "mimetype": "text/x-python",
   "name": "python",
   "nbconvert_exporter": "python",
   "pygments_lexer": "ipython3",
   "version": "3.8.10"
  }
 },
 "nbformat": 4,
 "nbformat_minor": 5
}
