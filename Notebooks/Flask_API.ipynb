{
 "cells": [
  {
   "cell_type": "markdown",
   "id": "da4e3540",
   "metadata": {},
   "source": [
    "# Creating the API"
   ]
  },
  {
   "cell_type": "code",
   "execution_count": 29,
   "id": "98f9fc0d",
   "metadata": {},
   "outputs": [],
   "source": [
    "import requests\n",
    "import random\n",
    "import pandas as pd"
   ]
  },
  {
   "cell_type": "markdown",
   "id": "231ebf1b",
   "metadata": {},
   "source": [
    "### @GET"
   ]
  },
  {
   "cell_type": "code",
   "execution_count": 3,
   "id": "fa2750fc",
   "metadata": {},
   "outputs": [],
   "source": [
    "url = \"http://127.0.0.1:5000/\""
   ]
  },
  {
   "cell_type": "code",
   "execution_count": 4,
   "id": "1590a637",
   "metadata": {
    "scrolled": true
   },
   "outputs": [
    {
     "data": {
      "text/plain": [
       "<Response [200]>"
      ]
     },
     "execution_count": 4,
     "metadata": {},
     "output_type": "execute_result"
    }
   ],
   "source": [
    "requests.get(url)"
   ]
  },
  {
   "cell_type": "code",
   "execution_count": 6,
   "id": "4396ca07",
   "metadata": {},
   "outputs": [
    {
     "data": {
      "text/plain": [
       "[{'name': 'Rachel'},\n",
       " {'name': 'Ross'},\n",
       " {'name': 'Monica'},\n",
       " {'name': 'Chandler'},\n",
       " {'name': 'Phoebe'},\n",
       " {'name': 'Joey'}]"
      ]
     },
     "execution_count": 6,
     "metadata": {},
     "output_type": "execute_result"
    }
   ],
   "source": [
    "friends = requests.get(\"http://127.0.0.1:5000/characters\")\n",
    "friends.json()"
   ]
  },
  {
   "cell_type": "code",
   "execution_count": 12,
   "id": "78ac06c2",
   "metadata": {},
   "outputs": [],
   "source": [
    "lines = requests.get(\"http://127.0.0.1:5000/lines\")"
   ]
  },
  {
   "cell_type": "code",
   "execution_count": 17,
   "id": "737e9b7d",
   "metadata": {},
   "outputs": [
    {
     "data": {
      "text/plain": [
       "<Response [200]>"
      ]
     },
     "execution_count": 17,
     "metadata": {},
     "output_type": "execute_result"
    }
   ],
   "source": [
    "lines"
   ]
  },
  {
   "cell_type": "code",
   "execution_count": 15,
   "id": "bd3df3d6",
   "metadata": {},
   "outputs": [
    {
     "data": {
      "text/plain": [
       "<Response [200]>"
      ]
     },
     "execution_count": 15,
     "metadata": {},
     "output_type": "execute_result"
    }
   ],
   "source": [
    "episodes = requests.get(\"http://127.0.0.1:5000/episodes\")\n",
    "episodes"
   ]
  },
  {
   "cell_type": "code",
   "execution_count": 27,
   "id": "e26ca7f8",
   "metadata": {},
   "outputs": [
    {
     "data": {
      "text/plain": [
       "<Response [200]>"
      ]
     },
     "execution_count": 27,
     "metadata": {},
     "output_type": "execute_result"
    }
   ],
   "source": [
    "episodes_author = requests.get(\"http://127.0.0.1:5000/quotes/Ross\")\n",
    "episodes_author"
   ]
  },
  {
   "cell_type": "code",
   "execution_count": 24,
   "id": "7a4f2ba9",
   "metadata": {},
   "outputs": [
    {
     "data": {
      "text/plain": [
       "'[{\"Text\":\"Oh, right, because he`s a scientist!\",\"Name_Author\":\"Ross\",\"Title_Episode\":\"In Barbados\"},{\"Text\":\"(apparently unruffled) Oh. Can I... can I ask who?\",\"Name_Author\":\"Ross\",\"Title_Episode\":\"In Barbados\"},{\"Text\":\"Finally, factoring the profusion of new species recently discovered: Gigantosaurus, Argentinasaurus...\",\"Name_Author\":\"Ross\",\"Title_Episode\":\"In Barbados\"},{\"Text\":\"I know! It`s like, if you knew, why didn`t you tell me, you know? I mean, call, or leave a note: `Hi, I just dropped by to say your wife`s gay`\",\"Name_Author\":\"Ross\",\"Title_Episode\":\"In Barbados\"},{\"Text\":\"... and while there are certainly vast differences between these Mesozoic fossiles and the example of Homo erectus...\",\"Name_Author\":\"Ross\",\"Title_Episode\":\"In Barbados\"},{\"Text\":\"And then, you try to make the best of a bad situation, so you float the idea of a threesome?\",\"Name_Author\":\"Ross\",\"Title_Episode\":\"In Barbados\"},{\"Text\":\"Well, what do you do?\",\"Name_Author\":\"Ross\",\"Title_Episode\":\"In Barbados\"},{\"Text\":\"Ok, we gotta go, yeah? So, we`ll see you guys tomorrow.\",\"Name_Author\":\"Ross\",\"Title_Episode\":\"In Barbados\"},{\"Text\":\"I think I know too but I`ve been really wrong about this stuff in the past, so...\",\"Name_Author\":\"Ross\",\"Title_Episode\":\"In Barbados\"},{\"Text\":\"(holding her hand) Hey, you ok?\",\"Name_Author\":\"Ross\",\"Title_Episode\":\"In Barbados\"},{\"Text\":\"Oh my God, wh-what happened?\",\"Name_Author\":\"Ross\",\"Title_Episode\":\"In Barbados\"},{\"Text\":\"(puzzled) Ok!... All right, thanks! Thank you so much, you guys! (to Phoebe) Oh, I can`t tell you how much it means to me that you were here!\",\"Name_Author\":\"Ross\",\"Title_Episode\":\"In Barbados\"},{\"Text\":\"The chocolates aren`t here yet.\",\"Name_Author\":\"Ross\",\"Title_Episode\":\"In Barbados\"},{\"Text\":\"Yep! I`d like to thank you guys for coming down here to complain about the rain and ruin my career!\",\"Name_Author\":\"Ross\",\"Title_Episode\":\"In Barbados\"},{\"Text\":\"(concluding his speech)... in a very real way we can bring the Mesozoic era into the 21st century. (pauses) Thank you!\",\"Name_Author\":\"Ross\",\"Title_Episode\":\"In Barbados\"},{\"Text\":\"Wow! This is very flattering, uh...\",\"Name_Author\":\"Ross\",\"Title_Episode\":\"In Barbados\"},{\"Text\":\"But all kidding aside, in much the same way that Homo ergaster [1] is now thought to be a separate species from Homo erectus...\",\"Name_Author\":\"Ross\",\"Title_Episode\":\"In Barbados\"},{\"Text\":\"What, oh my God. What did you do?\",\"Name_Author\":\"Ross\",\"Title_Episode\":\"In Barbados\"}]'"
      ]
     },
     "execution_count": 24,
     "metadata": {},
     "output_type": "execute_result"
    }
   ],
   "source": [
    "episode_author_line = requests.get(\"http://127.0.0.1:5000/quotes/Ross/In Barbados\")\n",
    "episode_author_line.json()"
   ]
  },
  {
   "cell_type": "markdown",
   "id": "bd259b02",
   "metadata": {},
   "source": [
    "### @POST"
   ]
  },
  {
   "cell_type": "markdown",
   "id": "71e78630",
   "metadata": {},
   "source": [
    "Now, I want to insert a quote not currently included in the sample I have imported to SQL. I want to include a phrase from Ross, so first I filter the original dataset with all the phrases from Ross in a specific episode 'The Ball'."
   ]
  },
  {
   "cell_type": "code",
   "execution_count": 34,
   "id": "932ad5d7",
   "metadata": {},
   "outputs": [
    {
     "data": {
      "text/html": [
       "<div>\n",
       "<style scoped>\n",
       "    .dataframe tbody tr th:only-of-type {\n",
       "        vertical-align: middle;\n",
       "    }\n",
       "\n",
       "    .dataframe tbody tr th {\n",
       "        vertical-align: top;\n",
       "    }\n",
       "\n",
       "    .dataframe thead th {\n",
       "        text-align: right;\n",
       "    }\n",
       "</style>\n",
       "<table border=\"1\" class=\"dataframe\">\n",
       "  <thead>\n",
       "    <tr style=\"text-align: right;\">\n",
       "      <th></th>\n",
       "      <th>Unnamed: 0</th>\n",
       "      <th>season</th>\n",
       "      <th>episode_number</th>\n",
       "      <th>episode_title</th>\n",
       "      <th>author</th>\n",
       "      <th>quote</th>\n",
       "    </tr>\n",
       "  </thead>\n",
       "  <tbody>\n",
       "    <tr>\n",
       "      <th>36228</th>\n",
       "      <td>44201</td>\n",
       "      <td>8</td>\n",
       "      <td>5</td>\n",
       "      <td>Rachel`s Date</td>\n",
       "      <td>Rachel</td>\n",
       "      <td>I made the mistake of telling him that I was p...</td>\n",
       "    </tr>\n",
       "  </tbody>\n",
       "</table>\n",
       "</div>"
      ],
      "text/plain": [
       "       Unnamed: 0  season  episode_number  episode_title  author  \\\n",
       "36228       44201       8               5  Rachel`s Date  Rachel   \n",
       "\n",
       "                                                   quote  \n",
       "36228  I made the mistake of telling him that I was p...  "
      ]
     },
     "execution_count": 34,
     "metadata": {},
     "output_type": "execute_result"
    }
   ],
   "source": [
    "data = pd.read_csv(\"../Data/friends_quotes_clean.csv\") # I first import the dataset\n",
    "data.sample(1)"
   ]
  },
  {
   "cell_type": "code",
   "execution_count": 33,
   "id": "ac656f33",
   "metadata": {},
   "outputs": [],
   "source": [
    "df = pd.read_csv('../Data/friends_quotes_sample.csv') # Then the sample dataset"
   ]
  },
  {
   "cell_type": "code",
   "execution_count": 36,
   "id": "b734e1ab",
   "metadata": {},
   "outputs": [
    {
     "data": {
      "text/html": [
       "<div>\n",
       "<style scoped>\n",
       "    .dataframe tbody tr th:only-of-type {\n",
       "        vertical-align: middle;\n",
       "    }\n",
       "\n",
       "    .dataframe tbody tr th {\n",
       "        vertical-align: top;\n",
       "    }\n",
       "\n",
       "    .dataframe thead th {\n",
       "        text-align: right;\n",
       "    }\n",
       "</style>\n",
       "<table border=\"1\" class=\"dataframe\">\n",
       "  <thead>\n",
       "    <tr style=\"text-align: right;\">\n",
       "      <th></th>\n",
       "      <th>Unnamed: 0</th>\n",
       "      <th>season</th>\n",
       "      <th>episode_number</th>\n",
       "      <th>episode_title</th>\n",
       "      <th>author</th>\n",
       "      <th>quote</th>\n",
       "    </tr>\n",
       "  </thead>\n",
       "  <tbody>\n",
       "    <tr>\n",
       "      <th>23068</th>\n",
       "      <td>28816</td>\n",
       "      <td>5</td>\n",
       "      <td>21</td>\n",
       "      <td>The Ball</td>\n",
       "      <td>Ross</td>\n",
       "      <td>Uh-huh, that`s why they call it Staten Island.</td>\n",
       "    </tr>\n",
       "    <tr>\n",
       "      <th>23070</th>\n",
       "      <td>28818</td>\n",
       "      <td>5</td>\n",
       "      <td>21</td>\n",
       "      <td>The Ball</td>\n",
       "      <td>Ross</td>\n",
       "      <td>(he catches the ball and pauses, staring at Jo...</td>\n",
       "    </tr>\n",
       "    <tr>\n",
       "      <th>23072</th>\n",
       "      <td>28820</td>\n",
       "      <td>5</td>\n",
       "      <td>21</td>\n",
       "      <td>The Ball</td>\n",
       "      <td>Ross</td>\n",
       "      <td>(looks at his watch) 2:17.</td>\n",
       "    </tr>\n",
       "    <tr>\n",
       "      <th>23074</th>\n",
       "      <td>28822</td>\n",
       "      <td>5</td>\n",
       "      <td>21</td>\n",
       "      <td>The Ball</td>\n",
       "      <td>Ross</td>\n",
       "      <td>Are you serious?!</td>\n",
       "    </tr>\n",
       "    <tr>\n",
       "      <th>23076</th>\n",
       "      <td>28824</td>\n",
       "      <td>5</td>\n",
       "      <td>21</td>\n",
       "      <td>The Ball</td>\n",
       "      <td>Ross</td>\n",
       "      <td>Wow! We are pretty good at this! Hey! We total...</td>\n",
       "    </tr>\n",
       "    <tr>\n",
       "      <th>23082</th>\n",
       "      <td>28830</td>\n",
       "      <td>5</td>\n",
       "      <td>21</td>\n",
       "      <td>The Ball</td>\n",
       "      <td>Ross</td>\n",
       "      <td>You bought Shawn Cassidy!</td>\n",
       "    </tr>\n",
       "    <tr>\n",
       "      <th>23085</th>\n",
       "      <td>28833</td>\n",
       "      <td>5</td>\n",
       "      <td>21</td>\n",
       "      <td>The Ball</td>\n",
       "      <td>Ross</td>\n",
       "      <td>What-what is it?!</td>\n",
       "    </tr>\n",
       "    <tr>\n",
       "      <th>23090</th>\n",
       "      <td>28838</td>\n",
       "      <td>5</td>\n",
       "      <td>21</td>\n",
       "      <td>The Ball</td>\n",
       "      <td>Ross</td>\n",
       "      <td>Why is it inside out?!</td>\n",
       "    </tr>\n",
       "    <tr>\n",
       "      <th>23092</th>\n",
       "      <td>28840</td>\n",
       "      <td>5</td>\n",
       "      <td>21</td>\n",
       "      <td>The Ball</td>\n",
       "      <td>Ross</td>\n",
       "      <td>How much did you pay for that?</td>\n",
       "    </tr>\n",
       "    <tr>\n",
       "      <th>23094</th>\n",
       "      <td>28842</td>\n",
       "      <td>5</td>\n",
       "      <td>21</td>\n",
       "      <td>The Ball</td>\n",
       "      <td>Ross</td>\n",
       "      <td>Yeah? How much?</td>\n",
       "    </tr>\n",
       "    <tr>\n",
       "      <th>23096</th>\n",
       "      <td>28844</td>\n",
       "      <td>5</td>\n",
       "      <td>21</td>\n",
       "      <td>The Ball</td>\n",
       "      <td>Ross</td>\n",
       "      <td>ON A CAT??!!!!</td>\n",
       "    </tr>\n",
       "    <tr>\n",
       "      <th>23099</th>\n",
       "      <td>28847</td>\n",
       "      <td>5</td>\n",
       "      <td>21</td>\n",
       "      <td>The Ball</td>\n",
       "      <td>Ross</td>\n",
       "      <td>Free cats do that too, y`know. {Which reminds ...</td>\n",
       "    </tr>\n",
       "    <tr>\n",
       "      <th>23102</th>\n",
       "      <td>28850</td>\n",
       "      <td>5</td>\n",
       "      <td>21</td>\n",
       "      <td>The Ball</td>\n",
       "      <td>Ross</td>\n",
       "      <td>(To Joey) Hey, you wanna get something to eat ...</td>\n",
       "    </tr>\n",
       "    <tr>\n",
       "      <th>23104</th>\n",
       "      <td>28852</td>\n",
       "      <td>5</td>\n",
       "      <td>21</td>\n",
       "      <td>The Ball</td>\n",
       "      <td>Ross</td>\n",
       "      <td>Yeah?</td>\n",
       "    </tr>\n",
       "    <tr>\n",
       "      <th>23106</th>\n",
       "      <td>28854</td>\n",
       "      <td>5</td>\n",
       "      <td>21</td>\n",
       "      <td>The Ball</td>\n",
       "      <td>Ross</td>\n",
       "      <td>Uhh, yeah it would! Let`s do it!</td>\n",
       "    </tr>\n",
       "    <tr>\n",
       "      <th>23109</th>\n",
       "      <td>28857</td>\n",
       "      <td>5</td>\n",
       "      <td>21</td>\n",
       "      <td>The Ball</td>\n",
       "      <td>Ross</td>\n",
       "      <td>What?</td>\n",
       "    </tr>\n",
       "    <tr>\n",
       "      <th>23112</th>\n",
       "      <td>28860</td>\n",
       "      <td>5</td>\n",
       "      <td>21</td>\n",
       "      <td>The Ball</td>\n",
       "      <td>Ross</td>\n",
       "      <td>I know! (Looks at the ball in his hands.) Don`...</td>\n",
       "    </tr>\n",
       "    <tr>\n",
       "      <th>23125</th>\n",
       "      <td>28884</td>\n",
       "      <td>5</td>\n",
       "      <td>21</td>\n",
       "      <td>The Ball</td>\n",
       "      <td>Ross</td>\n",
       "      <td>now when they found the remains of the Mesozoi...</td>\n",
       "    </tr>\n",
       "    <tr>\n",
       "      <th>23132</th>\n",
       "      <td>28893</td>\n",
       "      <td>5</td>\n",
       "      <td>21</td>\n",
       "      <td>The Ball</td>\n",
       "      <td>Ross</td>\n",
       "      <td>How do you know? You don`t have a watch.</td>\n",
       "    </tr>\n",
       "    <tr>\n",
       "      <th>23136</th>\n",
       "      <td>28897</td>\n",
       "      <td>5</td>\n",
       "      <td>21</td>\n",
       "      <td>The Ball</td>\n",
       "      <td>Ross</td>\n",
       "      <td>Monica, whatever you do, do not drop that ball!</td>\n",
       "    </tr>\n",
       "    <tr>\n",
       "      <th>23138</th>\n",
       "      <td>28899</td>\n",
       "      <td>5</td>\n",
       "      <td>21</td>\n",
       "      <td>The Ball</td>\n",
       "      <td>Ross</td>\n",
       "      <td>2 hours, 27 minutes.</td>\n",
       "    </tr>\n",
       "    <tr>\n",
       "      <th>23141</th>\n",
       "      <td>28902</td>\n",
       "      <td>5</td>\n",
       "      <td>21</td>\n",
       "      <td>The Ball</td>\n",
       "      <td>Ross</td>\n",
       "      <td>Hey Rach!</td>\n",
       "    </tr>\n",
       "    <tr>\n",
       "      <th>23143</th>\n",
       "      <td>28904</td>\n",
       "      <td>5</td>\n",
       "      <td>21</td>\n",
       "      <td>The Ball</td>\n",
       "      <td>Ross</td>\n",
       "      <td>Check it out! Almost 3 hours without droppin` it!</td>\n",
       "    </tr>\n",
       "    <tr>\n",
       "      <th>23153</th>\n",
       "      <td>28914</td>\n",
       "      <td>5</td>\n",
       "      <td>21</td>\n",
       "      <td>The Ball</td>\n",
       "      <td>Ross</td>\n",
       "      <td>Yeah.</td>\n",
       "    </tr>\n",
       "    <tr>\n",
       "      <th>23155</th>\n",
       "      <td>28916</td>\n",
       "      <td>5</td>\n",
       "      <td>21</td>\n",
       "      <td>The Ball</td>\n",
       "      <td>Ross</td>\n",
       "      <td>Doesn`t sound as crazy as paying a thousand do...</td>\n",
       "    </tr>\n",
       "    <tr>\n",
       "      <th>23178</th>\n",
       "      <td>28951</td>\n",
       "      <td>5</td>\n",
       "      <td>21</td>\n",
       "      <td>The Ball</td>\n",
       "      <td>Ross</td>\n",
       "      <td>(catching the ball) Monica! Stop throwing it s...</td>\n",
       "    </tr>\n",
       "    <tr>\n",
       "      <th>23187</th>\n",
       "      <td>28960</td>\n",
       "      <td>5</td>\n",
       "      <td>21</td>\n",
       "      <td>The Ball</td>\n",
       "      <td>Ross</td>\n",
       "      <td>It`s really a uh-uh three person game, y`know?</td>\n",
       "    </tr>\n",
       "    <tr>\n",
       "      <th>23189</th>\n",
       "      <td>28962</td>\n",
       "      <td>5</td>\n",
       "      <td>21</td>\n",
       "      <td>The Ball</td>\n",
       "      <td>Ross</td>\n",
       "      <td>All right. (He gently tosses the ball to Chand...</td>\n",
       "    </tr>\n",
       "    <tr>\n",
       "      <th>23194</th>\n",
       "      <td>28967</td>\n",
       "      <td>5</td>\n",
       "      <td>21</td>\n",
       "      <td>The Ball</td>\n",
       "      <td>Ross</td>\n",
       "      <td>Baking it didn`t help, huh?</td>\n",
       "    </tr>\n",
       "    <tr>\n",
       "      <th>23237</th>\n",
       "      <td>29040</td>\n",
       "      <td>5</td>\n",
       "      <td>21</td>\n",
       "      <td>The Ball</td>\n",
       "      <td>Ross</td>\n",
       "      <td>I`m starving!</td>\n",
       "    </tr>\n",
       "    <tr>\n",
       "      <th>23242</th>\n",
       "      <td>29045</td>\n",
       "      <td>5</td>\n",
       "      <td>21</td>\n",
       "      <td>The Ball</td>\n",
       "      <td>Ross</td>\n",
       "      <td>I`m still hungry!</td>\n",
       "    </tr>\n",
       "    <tr>\n",
       "      <th>23244</th>\n",
       "      <td>29047</td>\n",
       "      <td>5</td>\n",
       "      <td>21</td>\n",
       "      <td>The Ball</td>\n",
       "      <td>Ross</td>\n",
       "      <td>I am!</td>\n",
       "    </tr>\n",
       "    <tr>\n",
       "      <th>23248</th>\n",
       "      <td>29051</td>\n",
       "      <td>5</td>\n",
       "      <td>21</td>\n",
       "      <td>The Ball</td>\n",
       "      <td>Ross</td>\n",
       "      <td>Oh, thank God!</td>\n",
       "    </tr>\n",
       "    <tr>\n",
       "      <th>23275</th>\n",
       "      <td>29088</td>\n",
       "      <td>5</td>\n",
       "      <td>21</td>\n",
       "      <td>The Ball</td>\n",
       "      <td>Ross</td>\n",
       "      <td>I know. My arm is killing me.</td>\n",
       "    </tr>\n",
       "  </tbody>\n",
       "</table>\n",
       "</div>"
      ],
      "text/plain": [
       "       Unnamed: 0  season  episode_number episode_title author  \\\n",
       "23068       28816       5              21      The Ball   Ross   \n",
       "23070       28818       5              21      The Ball   Ross   \n",
       "23072       28820       5              21      The Ball   Ross   \n",
       "23074       28822       5              21      The Ball   Ross   \n",
       "23076       28824       5              21      The Ball   Ross   \n",
       "23082       28830       5              21      The Ball   Ross   \n",
       "23085       28833       5              21      The Ball   Ross   \n",
       "23090       28838       5              21      The Ball   Ross   \n",
       "23092       28840       5              21      The Ball   Ross   \n",
       "23094       28842       5              21      The Ball   Ross   \n",
       "23096       28844       5              21      The Ball   Ross   \n",
       "23099       28847       5              21      The Ball   Ross   \n",
       "23102       28850       5              21      The Ball   Ross   \n",
       "23104       28852       5              21      The Ball   Ross   \n",
       "23106       28854       5              21      The Ball   Ross   \n",
       "23109       28857       5              21      The Ball   Ross   \n",
       "23112       28860       5              21      The Ball   Ross   \n",
       "23125       28884       5              21      The Ball   Ross   \n",
       "23132       28893       5              21      The Ball   Ross   \n",
       "23136       28897       5              21      The Ball   Ross   \n",
       "23138       28899       5              21      The Ball   Ross   \n",
       "23141       28902       5              21      The Ball   Ross   \n",
       "23143       28904       5              21      The Ball   Ross   \n",
       "23153       28914       5              21      The Ball   Ross   \n",
       "23155       28916       5              21      The Ball   Ross   \n",
       "23178       28951       5              21      The Ball   Ross   \n",
       "23187       28960       5              21      The Ball   Ross   \n",
       "23189       28962       5              21      The Ball   Ross   \n",
       "23194       28967       5              21      The Ball   Ross   \n",
       "23237       29040       5              21      The Ball   Ross   \n",
       "23242       29045       5              21      The Ball   Ross   \n",
       "23244       29047       5              21      The Ball   Ross   \n",
       "23248       29051       5              21      The Ball   Ross   \n",
       "23275       29088       5              21      The Ball   Ross   \n",
       "\n",
       "                                                   quote  \n",
       "23068     Uh-huh, that`s why they call it Staten Island.  \n",
       "23070  (he catches the ball and pauses, staring at Jo...  \n",
       "23072                         (looks at his watch) 2:17.  \n",
       "23074                                  Are you serious?!  \n",
       "23076  Wow! We are pretty good at this! Hey! We total...  \n",
       "23082                          You bought Shawn Cassidy!  \n",
       "23085                                  What-what is it?!  \n",
       "23090                             Why is it inside out?!  \n",
       "23092                     How much did you pay for that?  \n",
       "23094                                    Yeah? How much?  \n",
       "23096                                     ON A CAT??!!!!  \n",
       "23099  Free cats do that too, y`know. {Which reminds ...  \n",
       "23102  (To Joey) Hey, you wanna get something to eat ...  \n",
       "23104                                              Yeah?  \n",
       "23106                   Uhh, yeah it would! Let`s do it!  \n",
       "23109                                              What?  \n",
       "23112  I know! (Looks at the ball in his hands.) Don`...  \n",
       "23125  now when they found the remains of the Mesozoi...  \n",
       "23132           How do you know? You don`t have a watch.  \n",
       "23136    Monica, whatever you do, do not drop that ball!  \n",
       "23138                               2 hours, 27 minutes.  \n",
       "23141                                          Hey Rach!  \n",
       "23143  Check it out! Almost 3 hours without droppin` it!  \n",
       "23153                                              Yeah.  \n",
       "23155  Doesn`t sound as crazy as paying a thousand do...  \n",
       "23178  (catching the ball) Monica! Stop throwing it s...  \n",
       "23187     It`s really a uh-uh three person game, y`know?  \n",
       "23189  All right. (He gently tosses the ball to Chand...  \n",
       "23194                        Baking it didn`t help, huh?  \n",
       "23237                                      I`m starving!  \n",
       "23242                                  I`m still hungry!  \n",
       "23244                                              I am!  \n",
       "23248                                     Oh, thank God!  \n",
       "23275                      I know. My arm is killing me.  "
      ]
     },
     "execution_count": 36,
     "metadata": {},
     "output_type": "execute_result"
    }
   ],
   "source": [
    "data.loc[(data['episode_title'] == 'The Ball') & (data['author'] == 'Ross')]"
   ]
  },
  {
   "cell_type": "code",
   "execution_count": 37,
   "id": "7cbedeec",
   "metadata": {},
   "outputs": [
    {
     "data": {
      "text/html": [
       "<div>\n",
       "<style scoped>\n",
       "    .dataframe tbody tr th:only-of-type {\n",
       "        vertical-align: middle;\n",
       "    }\n",
       "\n",
       "    .dataframe tbody tr th {\n",
       "        vertical-align: top;\n",
       "    }\n",
       "\n",
       "    .dataframe thead th {\n",
       "        text-align: right;\n",
       "    }\n",
       "</style>\n",
       "<table border=\"1\" class=\"dataframe\">\n",
       "  <thead>\n",
       "    <tr style=\"text-align: right;\">\n",
       "      <th></th>\n",
       "      <th>Unnamed: 0</th>\n",
       "      <th>Unnamed: 0.1</th>\n",
       "      <th>season</th>\n",
       "      <th>episode_number</th>\n",
       "      <th>episode_title</th>\n",
       "      <th>author</th>\n",
       "      <th>quote</th>\n",
       "    </tr>\n",
       "  </thead>\n",
       "  <tbody>\n",
       "    <tr>\n",
       "      <th>306</th>\n",
       "      <td>23109</td>\n",
       "      <td>28857</td>\n",
       "      <td>5</td>\n",
       "      <td>21</td>\n",
       "      <td>The Ball</td>\n",
       "      <td>Ross</td>\n",
       "      <td>What?</td>\n",
       "    </tr>\n",
       "    <tr>\n",
       "      <th>4363</th>\n",
       "      <td>23155</td>\n",
       "      <td>28916</td>\n",
       "      <td>5</td>\n",
       "      <td>21</td>\n",
       "      <td>The Ball</td>\n",
       "      <td>Ross</td>\n",
       "      <td>Doesn`t sound as crazy as paying a thousand do...</td>\n",
       "    </tr>\n",
       "  </tbody>\n",
       "</table>\n",
       "</div>"
      ],
      "text/plain": [
       "      Unnamed: 0  Unnamed: 0.1  season  episode_number episode_title author  \\\n",
       "306        23109         28857       5              21      The Ball   Ross   \n",
       "4363       23155         28916       5              21      The Ball   Ross   \n",
       "\n",
       "                                                  quote  \n",
       "306                                               What?  \n",
       "4363  Doesn`t sound as crazy as paying a thousand do...  "
      ]
     },
     "execution_count": 37,
     "metadata": {},
     "output_type": "execute_result"
    }
   ],
   "source": [
    "df.loc[(df['episode_title'] == 'The Ball') & (df['author'] == 'Ross')]"
   ]
  },
  {
   "cell_type": "code",
   "execution_count": 67,
   "id": "961615b6",
   "metadata": {},
   "outputs": [],
   "source": [
    "endpoint = \"http://127.0.0.1:5000/newquote\""
   ]
  },
  {
   "cell_type": "code",
   "execution_count": 68,
   "id": "74b9fbfe",
   "metadata": {},
   "outputs": [],
   "source": [
    "insert = {\"quote\": \"ON A CAT??!!!!\", \"author\" : 2, \"episode\" : 4}"
   ]
  },
  {
   "cell_type": "code",
   "execution_count": 69,
   "id": "e3d29b02",
   "metadata": {},
   "outputs": [
    {
     "data": {
      "text/plain": [
       "<Response [200]>"
      ]
     },
     "execution_count": 69,
     "metadata": {},
     "output_type": "execute_result"
    }
   ],
   "source": [
    "requests.post(\"http://127.0.0.1:5000/newquote\", data = insert)"
   ]
  }
 ],
 "metadata": {
  "kernelspec": {
   "display_name": "ironhack",
   "language": "python",
   "name": "ironhack"
  },
  "language_info": {
   "codemirror_mode": {
    "name": "ipython",
    "version": 3
   },
   "file_extension": ".py",
   "mimetype": "text/x-python",
   "name": "python",
   "nbconvert_exporter": "python",
   "pygments_lexer": "ipython3",
   "version": "3.8.10"
  }
 },
 "nbformat": 4,
 "nbformat_minor": 5
}
