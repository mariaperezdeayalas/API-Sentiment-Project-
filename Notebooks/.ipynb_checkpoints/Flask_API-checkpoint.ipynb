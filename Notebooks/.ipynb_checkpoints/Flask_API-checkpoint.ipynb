{
 "cells": [
  {
   "cell_type": "code",
   "execution_count": 2,
   "id": "98f9fc0d",
   "metadata": {},
   "outputs": [],
   "source": [
    "import requests\n",
    "import random"
   ]
  },
  {
   "cell_type": "code",
   "execution_count": 3,
   "id": "fa2750fc",
   "metadata": {},
   "outputs": [],
   "source": [
    "url = \"http://127.0.0.1:5000/\""
   ]
  },
  {
   "cell_type": "code",
   "execution_count": 4,
   "id": "1590a637",
   "metadata": {
    "scrolled": true
   },
   "outputs": [
    {
     "data": {
      "text/plain": [
       "<Response [200]>"
      ]
     },
     "execution_count": 4,
     "metadata": {},
     "output_type": "execute_result"
    }
   ],
   "source": [
    "requests.get(url)"
   ]
  },
  {
   "cell_type": "code",
   "execution_count": 6,
   "id": "70d3c128",
   "metadata": {},
   "outputs": [
    {
     "data": {
      "text/plain": [
       "[{'name': 'Rachel'},\n",
       " {'name': 'Ross'},\n",
       " {'name': 'Monica'},\n",
       " {'name': 'Chandler'},\n",
       " {'name': 'Phoebe'},\n",
       " {'name': 'Joey'}]"
      ]
     },
     "execution_count": 6,
     "metadata": {},
     "output_type": "execute_result"
    }
   ],
   "source": [
    "friends = requests.get(\"http://127.0.0.1:5000/characters\")\n",
    "friends.json()"
   ]
  },
  {
   "cell_type": "code",
   "execution_count": 12,
   "id": "aeb929d1",
   "metadata": {},
   "outputs": [],
   "source": [
    "lines = requests.get(\"http://127.0.0.1:5000/lines\")"
   ]
  },
  {
   "cell_type": "code",
   "execution_count": 17,
   "id": "37cb0c35",
   "metadata": {},
   "outputs": [
    {
     "data": {
      "text/plain": [
       "<Response [200]>"
      ]
     },
     "execution_count": 17,
     "metadata": {},
     "output_type": "execute_result"
    }
   ],
   "source": [
    "lines"
   ]
  },
  {
   "cell_type": "code",
   "execution_count": 15,
   "id": "7d19fdb3",
   "metadata": {},
   "outputs": [
    {
     "data": {
      "text/plain": [
       "<Response [200]>"
      ]
     },
     "execution_count": 15,
     "metadata": {},
     "output_type": "execute_result"
    }
   ],
   "source": [
    "episodes = requests.get(\"http://127.0.0.1:5000/episodes\")\n",
    "episodes"
   ]
  },
  {
   "cell_type": "code",
   "execution_count": 21,
   "id": "f1a30164",
   "metadata": {},
   "outputs": [
    {
     "data": {
      "text/plain": [
       "<Response [200]>"
      ]
     },
     "execution_count": 21,
     "metadata": {},
     "output_type": "execute_result"
    }
   ],
   "source": [
    "episodes_author = requests.get(\"http://127.0.0.1:5000/quotes/Ross\")\n",
    "episodes_author"
   ]
  },
  {
   "cell_type": "code",
   "execution_count": null,
   "id": "7711670a",
   "metadata": {},
   "outputs": [],
   "source": []
  }
 ],
 "metadata": {
  "kernelspec": {
   "display_name": "ironhack",
   "language": "python",
   "name": "ironhack"
  },
  "language_info": {
   "codemirror_mode": {
    "name": "ipython",
    "version": 3
   },
   "file_extension": ".py",
   "mimetype": "text/x-python",
   "name": "python",
   "nbconvert_exporter": "python",
   "pygments_lexer": "ipython3",
   "version": "3.8.10"
  }
 },
 "nbformat": 4,
 "nbformat_minor": 5
}
