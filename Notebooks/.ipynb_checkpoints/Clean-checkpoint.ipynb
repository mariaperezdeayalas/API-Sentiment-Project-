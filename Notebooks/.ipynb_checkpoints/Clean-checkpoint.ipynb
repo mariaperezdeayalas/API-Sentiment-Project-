{
 "cells": [
  {
   "cell_type": "code",
   "execution_count": 11,
   "id": "edf174a5",
   "metadata": {},
   "outputs": [],
   "source": [
    "import pandas as pd"
   ]
  },
  {
   "cell_type": "code",
   "execution_count": 54,
   "id": "776ac8ce",
   "metadata": {},
   "outputs": [],
   "source": [
    "df = pd.read_csv(\"../Data/friends_quotes.csv\")"
   ]
  },
  {
   "cell_type": "code",
   "execution_count": 13,
   "id": "5ac9c080",
   "metadata": {},
   "outputs": [
    {
     "data": {
      "text/html": [
       "<div>\n",
       "<style scoped>\n",
       "    .dataframe tbody tr th:only-of-type {\n",
       "        vertical-align: middle;\n",
       "    }\n",
       "\n",
       "    .dataframe tbody tr th {\n",
       "        vertical-align: top;\n",
       "    }\n",
       "\n",
       "    .dataframe thead th {\n",
       "        text-align: right;\n",
       "    }\n",
       "</style>\n",
       "<table border=\"1\" class=\"dataframe\">\n",
       "  <thead>\n",
       "    <tr style=\"text-align: right;\">\n",
       "      <th></th>\n",
       "      <th>author</th>\n",
       "      <th>episode_number</th>\n",
       "      <th>episode_title</th>\n",
       "      <th>quote</th>\n",
       "      <th>quote_order</th>\n",
       "      <th>season</th>\n",
       "    </tr>\n",
       "  </thead>\n",
       "  <tbody>\n",
       "    <tr>\n",
       "      <th>0</th>\n",
       "      <td>Monica</td>\n",
       "      <td>1.0</td>\n",
       "      <td>Monica Gets A Roommate</td>\n",
       "      <td>There's nothing to tell! He's just some guy I ...</td>\n",
       "      <td>0.0</td>\n",
       "      <td>1.0</td>\n",
       "    </tr>\n",
       "    <tr>\n",
       "      <th>1</th>\n",
       "      <td>Joey</td>\n",
       "      <td>1.0</td>\n",
       "      <td>Monica Gets A Roommate</td>\n",
       "      <td>C'mon, you're going out with the guy! There's ...</td>\n",
       "      <td>1.0</td>\n",
       "      <td>1.0</td>\n",
       "    </tr>\n",
       "    <tr>\n",
       "      <th>2</th>\n",
       "      <td>Chandler</td>\n",
       "      <td>1.0</td>\n",
       "      <td>Monica Gets A Roommate</td>\n",
       "      <td>All right Joey, be nice. So does he have a hum...</td>\n",
       "      <td>2.0</td>\n",
       "      <td>1.0</td>\n",
       "    </tr>\n",
       "    <tr>\n",
       "      <th>3</th>\n",
       "      <td>Phoebe</td>\n",
       "      <td>1.0</td>\n",
       "      <td>Monica Gets A Roommate</td>\n",
       "      <td>Wait, does he eat chalk?</td>\n",
       "      <td>3.0</td>\n",
       "      <td>1.0</td>\n",
       "    </tr>\n",
       "    <tr>\n",
       "      <th>4</th>\n",
       "      <td>Phoebe</td>\n",
       "      <td>1.0</td>\n",
       "      <td>Monica Gets A Roommate</td>\n",
       "      <td>Just, 'cause, I don't want her to go through w...</td>\n",
       "      <td>4.0</td>\n",
       "      <td>1.0</td>\n",
       "    </tr>\n",
       "  </tbody>\n",
       "</table>\n",
       "</div>"
      ],
      "text/plain": [
       "     author  episode_number           episode_title  \\\n",
       "0    Monica             1.0  Monica Gets A Roommate   \n",
       "1      Joey             1.0  Monica Gets A Roommate   \n",
       "2  Chandler             1.0  Monica Gets A Roommate   \n",
       "3    Phoebe             1.0  Monica Gets A Roommate   \n",
       "4    Phoebe             1.0  Monica Gets A Roommate   \n",
       "\n",
       "                                               quote  quote_order  season  \n",
       "0  There's nothing to tell! He's just some guy I ...          0.0     1.0  \n",
       "1  C'mon, you're going out with the guy! There's ...          1.0     1.0  \n",
       "2  All right Joey, be nice. So does he have a hum...          2.0     1.0  \n",
       "3                           Wait, does he eat chalk?          3.0     1.0  \n",
       "4  Just, 'cause, I don't want her to go through w...          4.0     1.0  "
      ]
     },
     "execution_count": 13,
     "metadata": {},
     "output_type": "execute_result"
    }
   ],
   "source": [
    "df.head()"
   ]
  },
  {
   "cell_type": "code",
   "execution_count": 33,
   "id": "2497a64d",
   "metadata": {},
   "outputs": [
    {
     "data": {
      "text/plain": [
       "(60291, 6)"
      ]
     },
     "execution_count": 33,
     "metadata": {},
     "output_type": "execute_result"
    }
   ],
   "source": [
    "df.shape"
   ]
  },
  {
   "cell_type": "code",
   "execution_count": 35,
   "id": "6092ac5e",
   "metadata": {},
   "outputs": [
    {
     "data": {
      "text/plain": [
       "author            0\n",
       "episode_number    0\n",
       "episode_title     0\n",
       "quote             0\n",
       "quote_order       0\n",
       "season            0\n",
       "dtype: int64"
      ]
     },
     "execution_count": 35,
     "metadata": {},
     "output_type": "execute_result"
    }
   ],
   "source": [
    "df.isnull().sum()"
   ]
  },
  {
   "cell_type": "code",
   "execution_count": 39,
   "id": "90f3128e",
   "metadata": {},
   "outputs": [
    {
     "name": "stdout",
     "output_type": "stream",
     "text": [
      "<class 'pandas.core.frame.DataFrame'>\n",
      "RangeIndex: 60291 entries, 0 to 60290\n",
      "Data columns (total 6 columns):\n",
      " #   Column          Non-Null Count  Dtype  \n",
      "---  ------          --------------  -----  \n",
      " 0   author          60291 non-null  object \n",
      " 1   episode_number  60291 non-null  float64\n",
      " 2   episode_title   60291 non-null  object \n",
      " 3   quote           60291 non-null  object \n",
      " 4   quote_order     60291 non-null  float64\n",
      " 5   season          60291 non-null  float64\n",
      "dtypes: float64(3), object(3)\n",
      "memory usage: 2.8+ MB\n"
     ]
    }
   ],
   "source": [
    "df.info()"
   ]
  },
  {
   "cell_type": "code",
   "execution_count": 42,
   "id": "226c07cc",
   "metadata": {},
   "outputs": [],
   "source": [
    "# print(list(df['author'].unique()))"
   ]
  },
  {
   "cell_type": "code",
   "execution_count": 40,
   "id": "62a00368",
   "metadata": {
    "scrolled": true
   },
   "outputs": [],
   "source": [
    "df['author'] = df['author'].str.lower()"
   ]
  },
  {
   "cell_type": "code",
   "execution_count": 41,
   "id": "94e03635",
   "metadata": {},
   "outputs": [
    {
     "data": {
      "text/html": [
       "<div>\n",
       "<style scoped>\n",
       "    .dataframe tbody tr th:only-of-type {\n",
       "        vertical-align: middle;\n",
       "    }\n",
       "\n",
       "    .dataframe tbody tr th {\n",
       "        vertical-align: top;\n",
       "    }\n",
       "\n",
       "    .dataframe thead th {\n",
       "        text-align: right;\n",
       "    }\n",
       "</style>\n",
       "<table border=\"1\" class=\"dataframe\">\n",
       "  <thead>\n",
       "    <tr style=\"text-align: right;\">\n",
       "      <th></th>\n",
       "      <th>author</th>\n",
       "      <th>episode_number</th>\n",
       "      <th>episode_title</th>\n",
       "      <th>quote</th>\n",
       "      <th>quote_order</th>\n",
       "      <th>season</th>\n",
       "    </tr>\n",
       "  </thead>\n",
       "  <tbody>\n",
       "    <tr>\n",
       "      <th>13801</th>\n",
       "      <td>phoebe</td>\n",
       "      <td>9.0</td>\n",
       "      <td>The Football</td>\n",
       "      <td>Umm, this stuffing is amazing. Do you think we...</td>\n",
       "      <td>282.0</td>\n",
       "      <td>3.0</td>\n",
       "    </tr>\n",
       "    <tr>\n",
       "      <th>41189</th>\n",
       "      <td>phoebe</td>\n",
       "      <td>19.0</td>\n",
       "      <td>Ross And Monica's Cousin</td>\n",
       "      <td>I dont know. (Timidly) A cowboy theme?</td>\n",
       "      <td>75.0</td>\n",
       "      <td>7.0</td>\n",
       "    </tr>\n",
       "    <tr>\n",
       "      <th>542</th>\n",
       "      <td>rachel</td>\n",
       "      <td>2.0</td>\n",
       "      <td>The Sonogram At The End</td>\n",
       "      <td>(on phone) Hi, Mindy. Hi, it-it's Rachel. Yeah...</td>\n",
       "      <td>245.0</td>\n",
       "      <td>1.0</td>\n",
       "    </tr>\n",
       "  </tbody>\n",
       "</table>\n",
       "</div>"
      ],
      "text/plain": [
       "       author  episode_number             episode_title  \\\n",
       "13801  phoebe             9.0              The Football   \n",
       "41189  phoebe            19.0  Ross And Monica's Cousin   \n",
       "542    rachel             2.0   The Sonogram At The End   \n",
       "\n",
       "                                                   quote  quote_order  season  \n",
       "13801  Umm, this stuffing is amazing. Do you think we...        282.0     3.0  \n",
       "41189            I dont know. (Timidly) A cowboy theme?         75.0     7.0  \n",
       "542    (on phone) Hi, Mindy. Hi, it-it's Rachel. Yeah...        245.0     1.0  "
      ]
     },
     "execution_count": 41,
     "metadata": {},
     "output_type": "execute_result"
    }
   ],
   "source": [
    "df.sample(3)"
   ]
  },
  {
   "cell_type": "code",
   "execution_count": 44,
   "id": "4f9e9841",
   "metadata": {},
   "outputs": [],
   "source": [
    "# print(list(df['author'].unique()))"
   ]
  },
  {
   "cell_type": "code",
   "execution_count": 45,
   "id": "1233b827",
   "metadata": {},
   "outputs": [],
   "source": [
    "df['author'] = df['author'].str.capitalize()"
   ]
  },
  {
   "cell_type": "code",
   "execution_count": 46,
   "id": "e17eef30",
   "metadata": {},
   "outputs": [
    {
     "data": {
      "text/html": [
       "<div>\n",
       "<style scoped>\n",
       "    .dataframe tbody tr th:only-of-type {\n",
       "        vertical-align: middle;\n",
       "    }\n",
       "\n",
       "    .dataframe tbody tr th {\n",
       "        vertical-align: top;\n",
       "    }\n",
       "\n",
       "    .dataframe thead th {\n",
       "        text-align: right;\n",
       "    }\n",
       "</style>\n",
       "<table border=\"1\" class=\"dataframe\">\n",
       "  <thead>\n",
       "    <tr style=\"text-align: right;\">\n",
       "      <th></th>\n",
       "      <th>author</th>\n",
       "      <th>episode_number</th>\n",
       "      <th>episode_title</th>\n",
       "      <th>quote</th>\n",
       "      <th>quote_order</th>\n",
       "      <th>season</th>\n",
       "    </tr>\n",
       "  </thead>\n",
       "  <tbody>\n",
       "    <tr>\n",
       "      <th>12549</th>\n",
       "      <td>Rachel</td>\n",
       "      <td>5.0</td>\n",
       "      <td>Frank Jr.</td>\n",
       "      <td>Now, you do realize that shes a cartoon, and ...</td>\n",
       "      <td>29.0</td>\n",
       "      <td>3.0</td>\n",
       "    </tr>\n",
       "    <tr>\n",
       "      <th>15576</th>\n",
       "      <td>Ross</td>\n",
       "      <td>16.0</td>\n",
       "      <td>The Morning After</td>\n",
       "      <td>Okay, okay, okay.</td>\n",
       "      <td>271.0</td>\n",
       "      <td>3.0</td>\n",
       "    </tr>\n",
       "    <tr>\n",
       "      <th>9076</th>\n",
       "      <td>Monica</td>\n",
       "      <td>14.0</td>\n",
       "      <td>The Prom Video</td>\n",
       "      <td>Um, yeah, so uh, uhh, listen, I'm sorry I didn...</td>\n",
       "      <td>128.0</td>\n",
       "      <td>2.0</td>\n",
       "    </tr>\n",
       "  </tbody>\n",
       "</table>\n",
       "</div>"
      ],
      "text/plain": [
       "       author  episode_number      episode_title  \\\n",
       "12549  Rachel             5.0          Frank Jr.   \n",
       "15576    Ross            16.0  The Morning After   \n",
       "9076   Monica            14.0     The Prom Video   \n",
       "\n",
       "                                                   quote  quote_order  season  \n",
       "12549  Now, you do realize that shes a cartoon, and ...         29.0     3.0  \n",
       "15576                                  Okay, okay, okay.        271.0     3.0  \n",
       "9076   Um, yeah, so uh, uhh, listen, I'm sorry I didn...        128.0     2.0  "
      ]
     },
     "execution_count": 46,
     "metadata": {},
     "output_type": "execute_result"
    }
   ],
   "source": [
    "df.sample(3)"
   ]
  },
  {
   "cell_type": "code",
   "execution_count": 56,
   "id": "f6cdca8b",
   "metadata": {},
   "outputs": [],
   "source": [
    "df[\"episode_number\"] = df[\"episode_number\"].astype(dtype=\"int64\")"
   ]
  },
  {
   "cell_type": "code",
   "execution_count": 62,
   "id": "5cc73604",
   "metadata": {},
   "outputs": [],
   "source": [
    "df[\"season\"] = df[\"season\"].astype(dtype=\"int64\")"
   ]
  },
  {
   "cell_type": "code",
   "execution_count": 63,
   "id": "964aa37b",
   "metadata": {},
   "outputs": [],
   "source": [
    "df.drop([\"quote_order\"], axis=1, inplace=True)"
   ]
  },
  {
   "cell_type": "code",
   "execution_count": 68,
   "id": "ebfcb1fc",
   "metadata": {},
   "outputs": [],
   "source": [
    "df = df[['season', 'episode_number', 'episode_title', 'author', 'quote']]"
   ]
  },
  {
   "cell_type": "code",
   "execution_count": 69,
   "id": "7dfb60bf",
   "metadata": {},
   "outputs": [],
   "source": [
    "df_final = df[((df['author'] == 'Rachel') | (df['author'] == 'Ross') | (df['author'] == 'Monica') | (df['author'] == 'Chandler') | (df['author'] == 'Phoebe') | (df['author'] == 'Joey'))]"
   ]
  },
  {
   "cell_type": "code",
   "execution_count": 70,
   "id": "ea1df6a3",
   "metadata": {},
   "outputs": [
    {
     "data": {
      "text/plain": [
       "(45482, 5)"
      ]
     },
     "execution_count": 70,
     "metadata": {},
     "output_type": "execute_result"
    }
   ],
   "source": [
    "df_final.shape"
   ]
  },
  {
   "cell_type": "code",
   "execution_count": 71,
   "id": "425e7ac9",
   "metadata": {
    "scrolled": true
   },
   "outputs": [
    {
     "data": {
      "text/html": [
       "<div>\n",
       "<style scoped>\n",
       "    .dataframe tbody tr th:only-of-type {\n",
       "        vertical-align: middle;\n",
       "    }\n",
       "\n",
       "    .dataframe tbody tr th {\n",
       "        vertical-align: top;\n",
       "    }\n",
       "\n",
       "    .dataframe thead th {\n",
       "        text-align: right;\n",
       "    }\n",
       "</style>\n",
       "<table border=\"1\" class=\"dataframe\">\n",
       "  <thead>\n",
       "    <tr style=\"text-align: right;\">\n",
       "      <th></th>\n",
       "      <th>season</th>\n",
       "      <th>episode_number</th>\n",
       "      <th>episode_title</th>\n",
       "      <th>author</th>\n",
       "      <th>quote</th>\n",
       "    </tr>\n",
       "  </thead>\n",
       "  <tbody>\n",
       "    <tr>\n",
       "      <th>19971</th>\n",
       "      <td>4</td>\n",
       "      <td>9</td>\n",
       "      <td>They're Going To Party</td>\n",
       "      <td>Monica</td>\n",
       "      <td>Oh.</td>\n",
       "    </tr>\n",
       "    <tr>\n",
       "      <th>15673</th>\n",
       "      <td>3</td>\n",
       "      <td>17</td>\n",
       "      <td>The Ski Trip</td>\n",
       "      <td>Phoebe</td>\n",
       "      <td>Y'know what, I can stay, Im gonna stay. Caus...</td>\n",
       "    </tr>\n",
       "    <tr>\n",
       "      <th>41806</th>\n",
       "      <td>7</td>\n",
       "      <td>21</td>\n",
       "      <td>The Vows</td>\n",
       "      <td>Rachel</td>\n",
       "      <td>Okay!</td>\n",
       "    </tr>\n",
       "    <tr>\n",
       "      <th>41673</th>\n",
       "      <td>7</td>\n",
       "      <td>21</td>\n",
       "      <td>The Vows</td>\n",
       "      <td>Chandler</td>\n",
       "      <td>You'll get one.</td>\n",
       "    </tr>\n",
       "    <tr>\n",
       "      <th>30</th>\n",
       "      <td>1</td>\n",
       "      <td>1</td>\n",
       "      <td>Monica Gets A Roommate</td>\n",
       "      <td>Monica</td>\n",
       "      <td>No you don't.</td>\n",
       "    </tr>\n",
       "  </tbody>\n",
       "</table>\n",
       "</div>"
      ],
      "text/plain": [
       "       season  episode_number           episode_title    author  \\\n",
       "19971       4               9  They're Going To Party    Monica   \n",
       "15673       3              17            The Ski Trip    Phoebe   \n",
       "41806       7              21                The Vows    Rachel   \n",
       "41673       7              21                The Vows  Chandler   \n",
       "30          1               1  Monica Gets A Roommate    Monica   \n",
       "\n",
       "                                                   quote  \n",
       "19971                                                Oh.  \n",
       "15673  Y'know what, I can stay, Im gonna stay. Caus...  \n",
       "41806                                              Okay!  \n",
       "41673                                    You'll get one.  \n",
       "30                                         No you don't.  "
      ]
     },
     "execution_count": 71,
     "metadata": {},
     "output_type": "execute_result"
    }
   ],
   "source": [
    "df_final.sample(5)"
   ]
  },
  {
   "cell_type": "code",
   "execution_count": 72,
   "id": "a00dc946",
   "metadata": {},
   "outputs": [],
   "source": [
    "df_final.to_csv('../Data/friends_quotes_clean.csv')"
   ]
  }
 ],
 "metadata": {
  "kernelspec": {
   "display_name": "ironhack",
   "language": "python",
   "name": "ironhack"
  },
  "language_info": {
   "codemirror_mode": {
    "name": "ipython",
    "version": 3
   },
   "file_extension": ".py",
   "mimetype": "text/x-python",
   "name": "python",
   "nbconvert_exporter": "python",
   "pygments_lexer": "ipython3",
   "version": "3.8.10"
  }
 },
 "nbformat": 4,
 "nbformat_minor": 5
}
