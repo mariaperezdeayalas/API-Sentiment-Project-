{
 "cells": [
  {
   "cell_type": "markdown",
   "id": "ebf40383",
   "metadata": {},
   "source": [
    "# Cleaning the dataset"
   ]
  },
  {
   "cell_type": "code",
   "execution_count": 1,
   "id": "edf174a5",
   "metadata": {},
   "outputs": [],
   "source": [
    "import pandas as pd\n",
    "import sys\n",
    "sys.path.append('/Users/maperezdeayalas/Documents/Ironhack/API-Sentiment-Project-/SRC')\n",
    "import cleaning_functions as fc"
   ]
  },
  {
   "cell_type": "code",
   "execution_count": 2,
   "id": "776ac8ce",
   "metadata": {},
   "outputs": [],
   "source": [
    "df = pd.read_csv(\"../Data/friends_quotes.csv\")"
   ]
  },
  {
   "cell_type": "code",
   "execution_count": 3,
   "id": "5ac9c080",
   "metadata": {},
   "outputs": [
    {
     "data": {
      "text/html": [
       "<div>\n",
       "<style scoped>\n",
       "    .dataframe tbody tr th:only-of-type {\n",
       "        vertical-align: middle;\n",
       "    }\n",
       "\n",
       "    .dataframe tbody tr th {\n",
       "        vertical-align: top;\n",
       "    }\n",
       "\n",
       "    .dataframe thead th {\n",
       "        text-align: right;\n",
       "    }\n",
       "</style>\n",
       "<table border=\"1\" class=\"dataframe\">\n",
       "  <thead>\n",
       "    <tr style=\"text-align: right;\">\n",
       "      <th></th>\n",
       "      <th>author</th>\n",
       "      <th>episode_number</th>\n",
       "      <th>episode_title</th>\n",
       "      <th>quote</th>\n",
       "      <th>quote_order</th>\n",
       "      <th>season</th>\n",
       "    </tr>\n",
       "  </thead>\n",
       "  <tbody>\n",
       "    <tr>\n",
       "      <th>0</th>\n",
       "      <td>Monica</td>\n",
       "      <td>1.0</td>\n",
       "      <td>Monica Gets A Roommate</td>\n",
       "      <td>There's nothing to tell! He's just some guy I ...</td>\n",
       "      <td>0.0</td>\n",
       "      <td>1.0</td>\n",
       "    </tr>\n",
       "    <tr>\n",
       "      <th>1</th>\n",
       "      <td>Joey</td>\n",
       "      <td>1.0</td>\n",
       "      <td>Monica Gets A Roommate</td>\n",
       "      <td>C'mon, you're going out with the guy! There's ...</td>\n",
       "      <td>1.0</td>\n",
       "      <td>1.0</td>\n",
       "    </tr>\n",
       "    <tr>\n",
       "      <th>2</th>\n",
       "      <td>Chandler</td>\n",
       "      <td>1.0</td>\n",
       "      <td>Monica Gets A Roommate</td>\n",
       "      <td>All right Joey, be nice. So does he have a hum...</td>\n",
       "      <td>2.0</td>\n",
       "      <td>1.0</td>\n",
       "    </tr>\n",
       "    <tr>\n",
       "      <th>3</th>\n",
       "      <td>Phoebe</td>\n",
       "      <td>1.0</td>\n",
       "      <td>Monica Gets A Roommate</td>\n",
       "      <td>Wait, does he eat chalk?</td>\n",
       "      <td>3.0</td>\n",
       "      <td>1.0</td>\n",
       "    </tr>\n",
       "    <tr>\n",
       "      <th>4</th>\n",
       "      <td>Phoebe</td>\n",
       "      <td>1.0</td>\n",
       "      <td>Monica Gets A Roommate</td>\n",
       "      <td>Just, 'cause, I don't want her to go through w...</td>\n",
       "      <td>4.0</td>\n",
       "      <td>1.0</td>\n",
       "    </tr>\n",
       "  </tbody>\n",
       "</table>\n",
       "</div>"
      ],
      "text/plain": [
       "     author  episode_number           episode_title  \\\n",
       "0    Monica             1.0  Monica Gets A Roommate   \n",
       "1      Joey             1.0  Monica Gets A Roommate   \n",
       "2  Chandler             1.0  Monica Gets A Roommate   \n",
       "3    Phoebe             1.0  Monica Gets A Roommate   \n",
       "4    Phoebe             1.0  Monica Gets A Roommate   \n",
       "\n",
       "                                               quote  quote_order  season  \n",
       "0  There's nothing to tell! He's just some guy I ...          0.0     1.0  \n",
       "1  C'mon, you're going out with the guy! There's ...          1.0     1.0  \n",
       "2  All right Joey, be nice. So does he have a hum...          2.0     1.0  \n",
       "3                           Wait, does he eat chalk?          3.0     1.0  \n",
       "4  Just, 'cause, I don't want her to go through w...          4.0     1.0  "
      ]
     },
     "execution_count": 3,
     "metadata": {},
     "output_type": "execute_result"
    }
   ],
   "source": [
    "df.head()"
   ]
  },
  {
   "cell_type": "code",
   "execution_count": 4,
   "id": "3bee2cbb",
   "metadata": {},
   "outputs": [
    {
     "data": {
      "text/plain": [
       "(60291, 6)"
      ]
     },
     "execution_count": 4,
     "metadata": {},
     "output_type": "execute_result"
    }
   ],
   "source": [
    "df.shape"
   ]
  },
  {
   "cell_type": "code",
   "execution_count": 5,
   "id": "0f7a6f2b",
   "metadata": {},
   "outputs": [
    {
     "data": {
      "text/plain": [
       "author            0\n",
       "episode_number    0\n",
       "episode_title     0\n",
       "quote             0\n",
       "quote_order       0\n",
       "season            0\n",
       "dtype: int64"
      ]
     },
     "execution_count": 5,
     "metadata": {},
     "output_type": "execute_result"
    }
   ],
   "source": [
    "df.isnull().sum()"
   ]
  },
  {
   "cell_type": "code",
   "execution_count": 6,
   "id": "e0d42095",
   "metadata": {},
   "outputs": [
    {
     "name": "stdout",
     "output_type": "stream",
     "text": [
      "<class 'pandas.core.frame.DataFrame'>\n",
      "RangeIndex: 60291 entries, 0 to 60290\n",
      "Data columns (total 6 columns):\n",
      " #   Column          Non-Null Count  Dtype  \n",
      "---  ------          --------------  -----  \n",
      " 0   author          60291 non-null  object \n",
      " 1   episode_number  60291 non-null  float64\n",
      " 2   episode_title   60291 non-null  object \n",
      " 3   quote           60291 non-null  object \n",
      " 4   quote_order     60291 non-null  float64\n",
      " 5   season          60291 non-null  float64\n",
      "dtypes: float64(3), object(3)\n",
      "memory usage: 2.8+ MB\n"
     ]
    }
   ],
   "source": [
    "df.info()"
   ]
  },
  {
   "cell_type": "code",
   "execution_count": 7,
   "id": "226c07cc",
   "metadata": {},
   "outputs": [],
   "source": [
    "# print(list(df['author'].unique()))"
   ]
  },
  {
   "cell_type": "code",
   "execution_count": 8,
   "id": "f31c3f54",
   "metadata": {
    "scrolled": true
   },
   "outputs": [],
   "source": [
    "df['author'] = df['author'].str.lower()"
   ]
  },
  {
   "cell_type": "code",
   "execution_count": 9,
   "id": "738df0e4",
   "metadata": {},
   "outputs": [
    {
     "data": {
      "text/html": [
       "<div>\n",
       "<style scoped>\n",
       "    .dataframe tbody tr th:only-of-type {\n",
       "        vertical-align: middle;\n",
       "    }\n",
       "\n",
       "    .dataframe tbody tr th {\n",
       "        vertical-align: top;\n",
       "    }\n",
       "\n",
       "    .dataframe thead th {\n",
       "        text-align: right;\n",
       "    }\n",
       "</style>\n",
       "<table border=\"1\" class=\"dataframe\">\n",
       "  <thead>\n",
       "    <tr style=\"text-align: right;\">\n",
       "      <th></th>\n",
       "      <th>author</th>\n",
       "      <th>episode_number</th>\n",
       "      <th>episode_title</th>\n",
       "      <th>quote</th>\n",
       "      <th>quote_order</th>\n",
       "      <th>season</th>\n",
       "    </tr>\n",
       "  </thead>\n",
       "  <tbody>\n",
       "    <tr>\n",
       "      <th>2384</th>\n",
       "      <td>fun bobby</td>\n",
       "      <td>10.0</td>\n",
       "      <td>The Monkey</td>\n",
       "      <td>Hey, sorry I'm late. But my, uh, grandfather, ...</td>\n",
       "      <td>188.0</td>\n",
       "      <td>1.0</td>\n",
       "    </tr>\n",
       "    <tr>\n",
       "      <th>19202</th>\n",
       "      <td>rachel</td>\n",
       "      <td>5.0</td>\n",
       "      <td>Joey's New Girlfriend</td>\n",
       "      <td>(really confused) Okay.</td>\n",
       "      <td>238.0</td>\n",
       "      <td>4.0</td>\n",
       "    </tr>\n",
       "    <tr>\n",
       "      <th>43280</th>\n",
       "      <td>monica</td>\n",
       "      <td>2.0</td>\n",
       "      <td>The Red Sweater</td>\n",
       "      <td>Theres a dude?</td>\n",
       "      <td>153.0</td>\n",
       "      <td>8.0</td>\n",
       "    </tr>\n",
       "  </tbody>\n",
       "</table>\n",
       "</div>"
      ],
      "text/plain": [
       "          author  episode_number          episode_title  \\\n",
       "2384   fun bobby            10.0             The Monkey   \n",
       "19202     rachel             5.0  Joey's New Girlfriend   \n",
       "43280     monica             2.0        The Red Sweater   \n",
       "\n",
       "                                                   quote  quote_order  season  \n",
       "2384   Hey, sorry I'm late. But my, uh, grandfather, ...        188.0     1.0  \n",
       "19202                            (really confused) Okay.        238.0     4.0  \n",
       "43280                                    Theres a dude?        153.0     8.0  "
      ]
     },
     "execution_count": 9,
     "metadata": {},
     "output_type": "execute_result"
    }
   ],
   "source": [
    "df.sample(3)"
   ]
  },
  {
   "cell_type": "code",
   "execution_count": 10,
   "id": "fe2bd1ab",
   "metadata": {},
   "outputs": [],
   "source": [
    "# print(list(df['author'].unique()))"
   ]
  },
  {
   "cell_type": "code",
   "execution_count": 11,
   "id": "0da75843",
   "metadata": {},
   "outputs": [],
   "source": [
    "df['author'] = df['author'].str.capitalize()"
   ]
  },
  {
   "cell_type": "code",
   "execution_count": 12,
   "id": "51de34d2",
   "metadata": {},
   "outputs": [
    {
     "data": {
      "text/html": [
       "<div>\n",
       "<style scoped>\n",
       "    .dataframe tbody tr th:only-of-type {\n",
       "        vertical-align: middle;\n",
       "    }\n",
       "\n",
       "    .dataframe tbody tr th {\n",
       "        vertical-align: top;\n",
       "    }\n",
       "\n",
       "    .dataframe thead th {\n",
       "        text-align: right;\n",
       "    }\n",
       "</style>\n",
       "<table border=\"1\" class=\"dataframe\">\n",
       "  <thead>\n",
       "    <tr style=\"text-align: right;\">\n",
       "      <th></th>\n",
       "      <th>author</th>\n",
       "      <th>episode_number</th>\n",
       "      <th>episode_title</th>\n",
       "      <th>quote</th>\n",
       "      <th>quote_order</th>\n",
       "      <th>season</th>\n",
       "    </tr>\n",
       "  </thead>\n",
       "  <tbody>\n",
       "    <tr>\n",
       "      <th>29481</th>\n",
       "      <td>Phoebe</td>\n",
       "      <td>23.0</td>\n",
       "      <td>In Vegas</td>\n",
       "      <td>Awww! Now you're just my annoying friend Chand...</td>\n",
       "      <td>56.0</td>\n",
       "      <td>5.0</td>\n",
       "    </tr>\n",
       "    <tr>\n",
       "      <th>3227</th>\n",
       "      <td>Chandler</td>\n",
       "      <td>14.0</td>\n",
       "      <td>The Candy Hearts</td>\n",
       "      <td>She'll love it. Go with the egg, my friend.</td>\n",
       "      <td>14.0</td>\n",
       "      <td>1.0</td>\n",
       "    </tr>\n",
       "    <tr>\n",
       "      <th>44968</th>\n",
       "      <td>Hooker</td>\n",
       "      <td>8.0</td>\n",
       "      <td>The Stripper</td>\n",
       "      <td>Uh, no. But I could pretend to strip, but that...</td>\n",
       "      <td>164.0</td>\n",
       "      <td>8.0</td>\n",
       "    </tr>\n",
       "  </tbody>\n",
       "</table>\n",
       "</div>"
      ],
      "text/plain": [
       "         author  episode_number     episode_title  \\\n",
       "29481    Phoebe            23.0          In Vegas   \n",
       "3227   Chandler            14.0  The Candy Hearts   \n",
       "44968    Hooker             8.0      The Stripper   \n",
       "\n",
       "                                                   quote  quote_order  season  \n",
       "29481  Awww! Now you're just my annoying friend Chand...         56.0     5.0  \n",
       "3227         She'll love it. Go with the egg, my friend.         14.0     1.0  \n",
       "44968  Uh, no. But I could pretend to strip, but that...        164.0     8.0  "
      ]
     },
     "execution_count": 12,
     "metadata": {},
     "output_type": "execute_result"
    }
   ],
   "source": [
    "df.sample(3)"
   ]
  },
  {
   "cell_type": "code",
   "execution_count": 13,
   "id": "35becfa4",
   "metadata": {},
   "outputs": [],
   "source": [
    "df[\"episode_number\"] = df[\"episode_number\"].astype(dtype=\"int64\")"
   ]
  },
  {
   "cell_type": "code",
   "execution_count": 14,
   "id": "e31884cc",
   "metadata": {},
   "outputs": [],
   "source": [
    "df[\"season\"] = df[\"season\"].astype(dtype=\"int64\")"
   ]
  },
  {
   "cell_type": "code",
   "execution_count": 15,
   "id": "b7488afd",
   "metadata": {},
   "outputs": [],
   "source": [
    "df.drop([\"quote_order\"], axis=1, inplace=True)"
   ]
  },
  {
   "cell_type": "code",
   "execution_count": 16,
   "id": "cd5e2a28",
   "metadata": {},
   "outputs": [],
   "source": [
    "df = df[['season', 'episode_number', 'episode_title', 'author', 'quote']]"
   ]
  },
  {
   "cell_type": "markdown",
   "id": "c25abbd9",
   "metadata": {},
   "source": [
    "I am only going to take the 6 main characters to reduce my data"
   ]
  },
  {
   "cell_type": "code",
   "execution_count": 17,
   "id": "f6ecac3a",
   "metadata": {},
   "outputs": [],
   "source": [
    "df_final = df[((df['author'] == 'Rachel') | (df['author'] == 'Ross') | (df['author'] == 'Monica') | (df['author'] == 'Chandler') | (df['author'] == 'Phoebe') | (df['author'] == 'Joey'))]"
   ]
  },
  {
   "cell_type": "code",
   "execution_count": 18,
   "id": "6778680a",
   "metadata": {
    "scrolled": true
   },
   "outputs": [
    {
     "data": {
      "text/plain": [
       "(49506, 5)"
      ]
     },
     "execution_count": 18,
     "metadata": {},
     "output_type": "execute_result"
    }
   ],
   "source": [
    "df_final.shape"
   ]
  },
  {
   "cell_type": "code",
   "execution_count": 19,
   "id": "3d03bb5a",
   "metadata": {},
   "outputs": [
    {
     "data": {
      "text/html": [
       "<div>\n",
       "<style scoped>\n",
       "    .dataframe tbody tr th:only-of-type {\n",
       "        vertical-align: middle;\n",
       "    }\n",
       "\n",
       "    .dataframe tbody tr th {\n",
       "        vertical-align: top;\n",
       "    }\n",
       "\n",
       "    .dataframe thead th {\n",
       "        text-align: right;\n",
       "    }\n",
       "</style>\n",
       "<table border=\"1\" class=\"dataframe\">\n",
       "  <thead>\n",
       "    <tr style=\"text-align: right;\">\n",
       "      <th></th>\n",
       "      <th>season</th>\n",
       "      <th>episode_number</th>\n",
       "      <th>episode_title</th>\n",
       "      <th>author</th>\n",
       "      <th>quote</th>\n",
       "    </tr>\n",
       "  </thead>\n",
       "  <tbody>\n",
       "    <tr>\n",
       "      <th>41907</th>\n",
       "      <td>7</td>\n",
       "      <td>22</td>\n",
       "      <td>Chandler's Dad</td>\n",
       "      <td>Rachel</td>\n",
       "      <td>I think shes checking out your beehive Ross.</td>\n",
       "    </tr>\n",
       "    <tr>\n",
       "      <th>43159</th>\n",
       "      <td>8</td>\n",
       "      <td>2</td>\n",
       "      <td>The Red Sweater</td>\n",
       "      <td>Ross</td>\n",
       "      <td>Thread!</td>\n",
       "    </tr>\n",
       "    <tr>\n",
       "      <th>58689</th>\n",
       "      <td>10</td>\n",
       "      <td>13</td>\n",
       "      <td>Joey Speaks French</td>\n",
       "      <td>Joey</td>\n",
       "      <td>mah</td>\n",
       "    </tr>\n",
       "    <tr>\n",
       "      <th>12198</th>\n",
       "      <td>3</td>\n",
       "      <td>3</td>\n",
       "      <td>The Jam</td>\n",
       "      <td>Monica</td>\n",
       "      <td>You're gonna what?</td>\n",
       "    </tr>\n",
       "    <tr>\n",
       "      <th>11970</th>\n",
       "      <td>3</td>\n",
       "      <td>2</td>\n",
       "      <td>No One's Ready</td>\n",
       "      <td>Ross</td>\n",
       "      <td>No, but, your-your mad.</td>\n",
       "    </tr>\n",
       "    <tr>\n",
       "      <th>7687</th>\n",
       "      <td>2</td>\n",
       "      <td>8</td>\n",
       "      <td>The List</td>\n",
       "      <td>Ross</td>\n",
       "      <td>Number six: the way you smell.</td>\n",
       "    </tr>\n",
       "    <tr>\n",
       "      <th>59254</th>\n",
       "      <td>10</td>\n",
       "      <td>15</td>\n",
       "      <td>Estelle Dies</td>\n",
       "      <td>Chandler</td>\n",
       "      <td>Yeah.</td>\n",
       "    </tr>\n",
       "    <tr>\n",
       "      <th>9713</th>\n",
       "      <td>2</td>\n",
       "      <td>17</td>\n",
       "      <td>Eddie Moves In</td>\n",
       "      <td>Joey</td>\n",
       "      <td>You know it's funny you should mention that 'c...</td>\n",
       "    </tr>\n",
       "    <tr>\n",
       "      <th>31283</th>\n",
       "      <td>6</td>\n",
       "      <td>6</td>\n",
       "      <td>On The Last Night</td>\n",
       "      <td>Chandler</td>\n",
       "      <td>No! No! No! No(Joey looks at him)one can bea...</td>\n",
       "    </tr>\n",
       "    <tr>\n",
       "      <th>45381</th>\n",
       "      <td>8</td>\n",
       "      <td>10</td>\n",
       "      <td>Monica's Boots</td>\n",
       "      <td>Phoebe</td>\n",
       "      <td>Stings son, seven years old and theres a pic...</td>\n",
       "    </tr>\n",
       "  </tbody>\n",
       "</table>\n",
       "</div>"
      ],
      "text/plain": [
       "       season  episode_number       episode_title    author  \\\n",
       "41907       7              22      Chandler's Dad    Rachel   \n",
       "43159       8               2     The Red Sweater      Ross   \n",
       "58689      10              13  Joey Speaks French      Joey   \n",
       "12198       3               3             The Jam    Monica   \n",
       "11970       3               2      No One's Ready      Ross   \n",
       "7687        2               8            The List      Ross   \n",
       "59254      10              15        Estelle Dies  Chandler   \n",
       "9713        2              17      Eddie Moves In      Joey   \n",
       "31283       6               6   On The Last Night  Chandler   \n",
       "45381       8              10      Monica's Boots    Phoebe   \n",
       "\n",
       "                                                   quote  \n",
       "41907      I think shes checking out your beehive Ross.  \n",
       "43159                                            Thread!  \n",
       "58689                                                mah  \n",
       "12198                                 You're gonna what?  \n",
       "11970                            No, but, your-your mad.  \n",
       "7687                      Number six: the way you smell.  \n",
       "59254                                              Yeah.  \n",
       "9713   You know it's funny you should mention that 'c...  \n",
       "31283  No! No! No! No(Joey looks at him)one can bea...  \n",
       "45381  Stings son, seven years old and theres a pic...  "
      ]
     },
     "execution_count": 19,
     "metadata": {},
     "output_type": "execute_result"
    }
   ],
   "source": [
    "df_final.sample(10)"
   ]
  },
  {
   "cell_type": "code",
   "execution_count": 20,
   "id": "90c9feb9",
   "metadata": {},
   "outputs": [
    {
     "name": "stderr",
     "output_type": "stream",
     "text": [
      "<ipython-input-20-e7d90f6c1764>:1: SettingWithCopyWarning: \n",
      "A value is trying to be set on a copy of a slice from a DataFrame.\n",
      "Try using .loc[row_indexer,col_indexer] = value instead\n",
      "\n",
      "See the caveats in the documentation: https://pandas.pydata.org/pandas-docs/stable/user_guide/indexing.html#returning-a-view-versus-a-copy\n",
      "  df_final[\"episode_title\"] = df_final[\"episode_title\"].apply(fc.substitute)\n",
      "<ipython-input-20-e7d90f6c1764>:2: SettingWithCopyWarning: \n",
      "A value is trying to be set on a copy of a slice from a DataFrame.\n",
      "Try using .loc[row_indexer,col_indexer] = value instead\n",
      "\n",
      "See the caveats in the documentation: https://pandas.pydata.org/pandas-docs/stable/user_guide/indexing.html#returning-a-view-versus-a-copy\n",
      "  df_final[\"quote\"] = df_final[\"quote\"].apply(fc.substitute)\n"
     ]
    }
   ],
   "source": [
    "df_final[\"episode_title\"] = df_final[\"episode_title\"].apply(fc.substitute)\n",
    "df_final[\"quote\"] = df_final[\"quote\"].apply(fc.substitute)"
   ]
  },
  {
   "cell_type": "code",
   "execution_count": 21,
   "id": "50237337",
   "metadata": {},
   "outputs": [
    {
     "data": {
      "text/html": [
       "<div>\n",
       "<style scoped>\n",
       "    .dataframe tbody tr th:only-of-type {\n",
       "        vertical-align: middle;\n",
       "    }\n",
       "\n",
       "    .dataframe tbody tr th {\n",
       "        vertical-align: top;\n",
       "    }\n",
       "\n",
       "    .dataframe thead th {\n",
       "        text-align: right;\n",
       "    }\n",
       "</style>\n",
       "<table border=\"1\" class=\"dataframe\">\n",
       "  <thead>\n",
       "    <tr style=\"text-align: right;\">\n",
       "      <th></th>\n",
       "      <th>season</th>\n",
       "      <th>episode_number</th>\n",
       "      <th>episode_title</th>\n",
       "      <th>author</th>\n",
       "      <th>quote</th>\n",
       "    </tr>\n",
       "  </thead>\n",
       "  <tbody>\n",
       "    <tr>\n",
       "      <th>50043</th>\n",
       "      <td>9</td>\n",
       "      <td>5</td>\n",
       "      <td>Phoebe`s Birthday Dinner</td>\n",
       "      <td>Monica</td>\n",
       "      <td>(naughty in doorway) Welcome home. Ive missed ...</td>\n",
       "    </tr>\n",
       "    <tr>\n",
       "      <th>27758</th>\n",
       "      <td>5</td>\n",
       "      <td>17</td>\n",
       "      <td>Rachel`s Inadvertant Kiss</td>\n",
       "      <td>Monica</td>\n",
       "      <td>What happened?</td>\n",
       "    </tr>\n",
       "    <tr>\n",
       "      <th>15621</th>\n",
       "      <td>3</td>\n",
       "      <td>17</td>\n",
       "      <td>The Ski Trip</td>\n",
       "      <td>Rachel</td>\n",
       "      <td>Wait, Im not just gonna drink somebodys old ...</td>\n",
       "    </tr>\n",
       "    <tr>\n",
       "      <th>24023</th>\n",
       "      <td>5</td>\n",
       "      <td>1</td>\n",
       "      <td>Ross Says Rachel</td>\n",
       "      <td>Rachel</td>\n",
       "      <td>No, you know what, I think you should go.</td>\n",
       "    </tr>\n",
       "    <tr>\n",
       "      <th>33900</th>\n",
       "      <td>6</td>\n",
       "      <td>15</td>\n",
       "      <td>That Could Have Been, Part I &amp; II</td>\n",
       "      <td>Ross</td>\n",
       "      <td>No, she kept kicking me away!</td>\n",
       "    </tr>\n",
       "  </tbody>\n",
       "</table>\n",
       "</div>"
      ],
      "text/plain": [
       "       season  episode_number                      episode_title  author  \\\n",
       "50043       9               5           Phoebe`s Birthday Dinner  Monica   \n",
       "27758       5              17          Rachel`s Inadvertant Kiss  Monica   \n",
       "15621       3              17                       The Ski Trip  Rachel   \n",
       "24023       5               1                   Ross Says Rachel  Rachel   \n",
       "33900       6              15  That Could Have Been, Part I & II    Ross   \n",
       "\n",
       "                                                   quote  \n",
       "50043  (naughty in doorway) Welcome home. Ive missed ...  \n",
       "27758                                     What happened?  \n",
       "15621  Wait, Im not just gonna drink somebodys old ...  \n",
       "24023          No, you know what, I think you should go.  \n",
       "33900                      No, she kept kicking me away!  "
      ]
     },
     "execution_count": 21,
     "metadata": {},
     "output_type": "execute_result"
    }
   ],
   "source": [
    "df_final.sample(5)"
   ]
  },
  {
   "cell_type": "code",
   "execution_count": 23,
   "id": "d52567e9",
   "metadata": {},
   "outputs": [],
   "source": [
    "df_final.to_csv('../Data/friends_quotes_clean.csv')"
   ]
  }
 ],
 "metadata": {
  "kernelspec": {
   "display_name": "ironhack",
   "language": "python",
   "name": "ironhack"
  },
  "language_info": {
   "codemirror_mode": {
    "name": "ipython",
    "version": 3
   },
   "file_extension": ".py",
   "mimetype": "text/x-python",
   "name": "python",
   "nbconvert_exporter": "python",
   "pygments_lexer": "ipython3",
   "version": "3.8.10"
  }
 },
 "nbformat": 4,
 "nbformat_minor": 5
}
