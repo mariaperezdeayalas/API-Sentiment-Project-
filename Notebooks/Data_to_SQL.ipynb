{
 "cells": [
  {
   "cell_type": "markdown",
   "id": "f733ba80",
   "metadata": {},
   "source": [
    "# Inserting the data into SQL"
   ]
  },
  {
   "cell_type": "code",
   "execution_count": null,
   "id": "c655068f",
   "metadata": {},
   "outputs": [],
   "source": [
    "!pip install sqlalchem\n",
    "!pip install pymysql"
   ]
  },
  {
   "cell_type": "code",
   "execution_count": 2,
   "id": "2d9f6faa",
   "metadata": {},
   "outputs": [],
   "source": [
    "import pandas as pd\n",
    "import requests\n",
    "import sqlalchemy as alch\n",
    "from getpass import getpass\n",
    "import sys\n",
    "sys.path.append('../')\n",
    "import SRC.sql_tools as sq"
   ]
  },
  {
   "cell_type": "code",
   "execution_count": 11,
   "id": "478561fe",
   "metadata": {},
   "outputs": [
    {
     "data": {
      "text/html": [
       "<div>\n",
       "<style scoped>\n",
       "    .dataframe tbody tr th:only-of-type {\n",
       "        vertical-align: middle;\n",
       "    }\n",
       "\n",
       "    .dataframe tbody tr th {\n",
       "        vertical-align: top;\n",
       "    }\n",
       "\n",
       "    .dataframe thead th {\n",
       "        text-align: right;\n",
       "    }\n",
       "</style>\n",
       "<table border=\"1\" class=\"dataframe\">\n",
       "  <thead>\n",
       "    <tr style=\"text-align: right;\">\n",
       "      <th></th>\n",
       "      <th>Unnamed: 0</th>\n",
       "      <th>season</th>\n",
       "      <th>episode_number</th>\n",
       "      <th>episode_title</th>\n",
       "      <th>author</th>\n",
       "      <th>quote</th>\n",
       "    </tr>\n",
       "  </thead>\n",
       "  <tbody>\n",
       "    <tr>\n",
       "      <th>29999</th>\n",
       "      <td>36822</td>\n",
       "      <td>7</td>\n",
       "      <td>2</td>\n",
       "      <td>Rachel`s Book</td>\n",
       "      <td>Ross</td>\n",
       "      <td>So I guess you bought that book after we broke...</td>\n",
       "    </tr>\n",
       "  </tbody>\n",
       "</table>\n",
       "</div>"
      ],
      "text/plain": [
       "       Unnamed: 0  season  episode_number  episode_title author  \\\n",
       "29999       36822       7               2  Rachel`s Book   Ross   \n",
       "\n",
       "                                                   quote  \n",
       "29999  So I guess you bought that book after we broke...  "
      ]
     },
     "execution_count": 11,
     "metadata": {},
     "output_type": "execute_result"
    }
   ],
   "source": [
    "data = pd.read_csv(\"../Data/friends_quotes_clean.csv\")\n",
    "data.sample()"
   ]
  },
  {
   "cell_type": "code",
   "execution_count": null,
   "id": "d787eb77",
   "metadata": {},
   "outputs": [],
   "source": [
    "df.groupby"
   ]
  },
  {
   "cell_type": "code",
   "execution_count": 21,
   "id": "f2bf26e2",
   "metadata": {},
   "outputs": [
    {
     "data": {
      "text/plain": [
       "(49506, 6)"
      ]
     },
     "execution_count": 21,
     "metadata": {},
     "output_type": "execute_result"
    }
   ],
   "source": [
    "data.shape # There are too many rows in my dataset meaning it will take SQL a while to load everything, so I will just select around 10% of the total lines"
   ]
  },
  {
   "cell_type": "code",
   "execution_count": 12,
   "id": "6b2fd6cc",
   "metadata": {},
   "outputs": [],
   "source": [
    "df = data.sample(5000) # Just taking a sample of 10% of my data to reduce the time with importing the data to SQL"
   ]
  },
  {
   "cell_type": "code",
   "execution_count": 13,
   "id": "38eb1bc4",
   "metadata": {},
   "outputs": [
    {
     "data": {
      "text/plain": [
       "(5000, 6)"
      ]
     },
     "execution_count": 13,
     "metadata": {},
     "output_type": "execute_result"
    }
   ],
   "source": [
    "df.shape"
   ]
  },
  {
   "cell_type": "code",
   "execution_count": 14,
   "id": "aa31293a",
   "metadata": {},
   "outputs": [
    {
     "data": {
      "text/plain": [
       "Rachel      926\n",
       "Ross        912\n",
       "Monica      840\n",
       "Joey        799\n",
       "Chandler    790\n",
       "Phoebe      733\n",
       "Name: author, dtype: int64"
      ]
     },
     "execution_count": 14,
     "metadata": {},
     "output_type": "execute_result"
    }
   ],
   "source": [
    "df['author'].value_counts()"
   ]
  },
  {
   "cell_type": "code",
   "execution_count": 15,
   "id": "7b3e1652",
   "metadata": {},
   "outputs": [
    {
     "data": {
      "text/plain": [
       "6     580\n",
       "7     571\n",
       "3     550\n",
       "1     496\n",
       "4     488\n",
       "5     487\n",
       "8     482\n",
       "9     475\n",
       "10    448\n",
       "2     423\n",
       "Name: season, dtype: int64"
      ]
     },
     "execution_count": 15,
     "metadata": {},
     "output_type": "execute_result"
    }
   ],
   "source": [
    "df['season'].value_counts()"
   ]
  },
  {
   "cell_type": "code",
   "execution_count": null,
   "id": "f9a6fccd",
   "metadata": {},
   "outputs": [],
   "source": [
    "df.to_csv('../Data/friends_quotes_sample.csv')"
   ]
  },
  {
   "cell_type": "markdown",
   "id": "f2d2e7d3",
   "metadata": {},
   "source": [
    "### Now I can insert my data into SQL with my functions defined in `sql_tools`"
   ]
  },
  {
   "cell_type": "code",
   "execution_count": 2,
   "id": "ffa7e055",
   "metadata": {},
   "outputs": [
    {
     "data": {
      "text/plain": [
       "True"
      ]
     },
     "execution_count": 2,
     "metadata": {},
     "output_type": "execute_result"
    }
   ],
   "source": [
    "sq.check('author','Rachel')"
   ]
  },
  {
   "cell_type": "code",
   "execution_count": 4,
   "id": "dd4f69c9",
   "metadata": {},
   "outputs": [
    {
     "data": {
      "text/plain": [
       "True"
      ]
     },
     "execution_count": 4,
     "metadata": {},
     "output_type": "execute_result"
    }
   ],
   "source": [
    "sq.check2('season',10)"
   ]
  },
  {
   "cell_type": "code",
   "execution_count": 3,
   "id": "78bb928e",
   "metadata": {},
   "outputs": [],
   "source": [
    "authors = ['Rachel', 'Ross', 'Monica', 'Chandler', 'Phoebe', 'Joey']"
   ]
  },
  {
   "cell_type": "code",
   "execution_count": 4,
   "id": "deda57b8",
   "metadata": {},
   "outputs": [
    {
     "data": {
      "text/plain": [
       "'the author already exists'"
      ]
     },
     "execution_count": 4,
     "metadata": {},
     "output_type": "execute_result"
    }
   ],
   "source": [
    "sq.insertAuthor(authors)"
   ]
  },
  {
   "cell_type": "code",
   "execution_count": 8,
   "id": "8d745beb",
   "metadata": {},
   "outputs": [],
   "source": [
    "seasons = [1,2,3,4,5,6,7,8,9,10]"
   ]
  },
  {
   "cell_type": "code",
   "execution_count": 9,
   "id": "9a58b0b7",
   "metadata": {},
   "outputs": [
    {
     "data": {
      "text/plain": [
       "'the season already exists'"
      ]
     },
     "execution_count": 9,
     "metadata": {},
     "output_type": "execute_result"
    }
   ],
   "source": [
    "sq.insertSeason(seasons)"
   ]
  },
  {
   "cell_type": "code",
   "execution_count": 16,
   "id": "2d22e3a0",
   "metadata": {},
   "outputs": [],
   "source": [
    "episodes = list(df['episode_title'].unique())"
   ]
  },
  {
   "cell_type": "code",
   "execution_count": 17,
   "id": "7881f8a9",
   "metadata": {},
   "outputs": [],
   "source": [
    "sq.insertEpisode(df)"
   ]
  },
  {
   "cell_type": "code",
   "execution_count": 18,
   "id": "faf17b25",
   "metadata": {},
   "outputs": [
    {
     "data": {
      "text/plain": [
       "1"
      ]
     },
     "execution_count": 18,
     "metadata": {},
     "output_type": "execute_result"
    }
   ],
   "source": [
    "sq.givemetheId('author', 'Rachel')"
   ]
  },
  {
   "cell_type": "code",
   "execution_count": 19,
   "id": "f233029b",
   "metadata": {},
   "outputs": [
    {
     "data": {
      "text/plain": [
       "339"
      ]
     },
     "execution_count": 19,
     "metadata": {},
     "output_type": "execute_result"
    }
   ],
   "source": [
    "sq.givemetheId('episode_title', 'The Birth Mother')"
   ]
  },
  {
   "cell_type": "code",
   "execution_count": 20,
   "id": "35a6f082",
   "metadata": {},
   "outputs": [],
   "source": [
    "for index, row in df.iterrows():\n",
    "    sq.insertQuote(row)"
   ]
  },
  {
   "cell_type": "markdown",
   "id": "7eb6f904",
   "metadata": {},
   "source": [
    "Now that we have all the data in SQL, we can create the API with Flask API"
   ]
  }
 ],
 "metadata": {
  "kernelspec": {
   "display_name": "ironhack",
   "language": "python",
   "name": "ironhack"
  },
  "language_info": {
   "codemirror_mode": {
    "name": "ipython",
    "version": 3
   },
   "file_extension": ".py",
   "mimetype": "text/x-python",
   "name": "python",
   "nbconvert_exporter": "python",
   "pygments_lexer": "ipython3",
   "version": "3.8.10"
  }
 },
 "nbformat": 4,
 "nbformat_minor": 5
}
